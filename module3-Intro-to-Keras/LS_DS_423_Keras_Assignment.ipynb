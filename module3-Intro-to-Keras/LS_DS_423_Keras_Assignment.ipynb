{
 "cells": [
  {
   "cell_type": "markdown",
   "metadata": {
    "colab_type": "text",
    "id": "pBQsZEJmubLs"
   },
   "source": [
    "<img align=\"left\" src=\"https://lever-client-logos.s3.amazonaws.com/864372b1-534c-480e-acd5-9711f850815c-1524247202159.png\" width=200>\n",
    "<br></br>\n",
    "\n",
    "# Neural Network Framework (Keras)\n",
    "\n",
    "## *Data Science Unit 4 Sprint 2 Assignment 3*\n",
    "\n",
    "## Use the Keras Library to build a Multi-Layer Perceptron Model on the Boston Housing dataset\n",
    "\n",
    "- The Boston Housing dataset comes with the Keras library so use Keras to import it into your notebook. \n",
    "- Normalize the data (all features should have roughly the same scale)\n",
    "- Import the type of model and layers that you will need from Keras.\n",
    "- Instantiate a model object and use `model.add()` to add layers to your model\n",
    "- Since this is a regression model you will have a single output node in the final layer.\n",
    "- Use activation functions that are appropriate for this task\n",
    "- Compile your model\n",
    "- Fit your model and report its accuracy in terms of Mean Squared Error\n",
    "- Use the history object that is returned from model.fit to make graphs of the model's loss or train/validation accuracies by epoch. \n",
    "- Run this same data through a linear regression model. Which achieves higher accuracy?\n",
    "- Do a little bit of feature engineering and see how that affects your neural network model. (you will need to change your model to accept more inputs)\n",
    "- After feature engineering, which model sees a greater accuracy boost due to the new features?"
   ]
  },
  {
   "cell_type": "code",
   "execution_count": 54,
   "metadata": {
    "colab": {},
    "colab_type": "code",
    "id": "8NLTAR87uYJ-"
   },
   "outputs": [],
   "source": [
    "#TODO add early stopping, dropout, regularization\n",
    "\n",
    "#Use Hyperparameter Tuning to make the accuracy of your models as high as possible. (error as low as possible)\n",
    "#Use Cross Validation techniques to get more consistent results with your model.\n",
    "#Use GridSearchCV to try different combinations of hyperparameters.\n",
    "#Start looking into other types of Keras layers for CNNs and RNNs maybe\n",
    "#try and build a CNN model for fashion-MNIST to see how the results compar\n",
    "\n",
    "#feature engineering - remove outliers, etc. run pandas profiling\n",
    "\n",
    "\n",
    "from tensorflow.keras.models import Sequential\n",
    "from tensorflow.keras.layers import Dense\n",
    "from tensorflow.keras.datasets import boston_housing\n",
    "from tensorflow.keras.callbacks import EarlyStopping\n",
    "from tensorflow.keras import regularizers\n",
    "from tensorflow.keras.layers import Dropout\n",
    "from sklearn.preprocessing import StandardScaler\n",
    "from tensorflow.keras.layers import Flatten\n",
    "\n",
    "#https://www.tensorflow.org/tutorials/keras/save_and_load\n"
   ]
  },
  {
   "cell_type": "code",
   "execution_count": 5,
   "metadata": {},
   "outputs": [
    {
     "name": "stdout",
     "output_type": "stream",
     "text": [
      "Downloading data from https://storage.googleapis.com/tensorflow/tf-keras-datasets/boston_housing.npz\n",
      "57344/57026 [==============================] - 0s 1us/step\n"
     ]
    }
   ],
   "source": [
    "(train_data, train_targets), (test_data, test_targets) = boston_housing.load_data()"
   ]
  },
  {
   "cell_type": "code",
   "execution_count": 6,
   "metadata": {},
   "outputs": [
    {
     "data": {
      "text/plain": [
       "(404, 13)"
      ]
     },
     "execution_count": 6,
     "metadata": {},
     "output_type": "execute_result"
    }
   ],
   "source": [
    "train_data.shape"
   ]
  },
  {
   "cell_type": "code",
   "execution_count": 8,
   "metadata": {},
   "outputs": [
    {
     "data": {
      "text/plain": [
       "array([[1.23247e+00, 0.00000e+00, 8.14000e+00, 0.00000e+00, 5.38000e-01,\n",
       "        6.14200e+00, 9.17000e+01, 3.97690e+00, 4.00000e+00, 3.07000e+02,\n",
       "        2.10000e+01, 3.96900e+02, 1.87200e+01],\n",
       "       [2.17700e-02, 8.25000e+01, 2.03000e+00, 0.00000e+00, 4.15000e-01,\n",
       "        7.61000e+00, 1.57000e+01, 6.27000e+00, 2.00000e+00, 3.48000e+02,\n",
       "        1.47000e+01, 3.95380e+02, 3.11000e+00],\n",
       "       [4.89822e+00, 0.00000e+00, 1.81000e+01, 0.00000e+00, 6.31000e-01,\n",
       "        4.97000e+00, 1.00000e+02, 1.33250e+00, 2.40000e+01, 6.66000e+02,\n",
       "        2.02000e+01, 3.75520e+02, 3.26000e+00]])"
      ]
     },
     "execution_count": 8,
     "metadata": {},
     "output_type": "execute_result"
    }
   ],
   "source": [
    "train_data[:3]"
   ]
  },
  {
   "cell_type": "code",
   "execution_count": 10,
   "metadata": {},
   "outputs": [],
   "source": [
    "scaler = StandardScaler()\n",
    "scaler.fit(train_data)\n",
    "train_data = scaler.transform(train_data)\n",
    "test_data = scaler.transform(test_data)"
   ]
  },
  {
   "cell_type": "code",
   "execution_count": 17,
   "metadata": {},
   "outputs": [],
   "source": [
    "model = Sequential()\n",
    "model.add(Dense(20, input_dim=13, activation='relu'))\n",
    "model.add(Dense(30, activation='relu'))\n",
    "model.add(Dense(1))"
   ]
  },
  {
   "cell_type": "code",
   "execution_count": 18,
   "metadata": {},
   "outputs": [],
   "source": [
    "model.compile(loss='mse', optimizer='adam')"
   ]
  },
  {
   "cell_type": "code",
   "execution_count": 20,
   "metadata": {},
   "outputs": [
    {
     "name": "stdout",
     "output_type": "stream",
     "text": [
      "The tensorboard extension is already loaded. To reload it, use:\n",
      "  %reload_ext tensorboard\n",
      "Train on 404 samples, validate on 102 samples\n",
      "Epoch 1/15\n",
      "404/404 [==============================] - 0s 261us/sample - loss: 43.7268 - val_loss: 40.8057\n",
      "Epoch 2/15\n",
      "404/404 [==============================] - 0s 442us/sample - loss: 38.5713 - val_loss: 35.9014\n",
      "Epoch 3/15\n",
      "404/404 [==============================] - 0s 75us/sample - loss: 34.4389 - val_loss: 32.4606\n",
      "Epoch 4/15\n",
      "404/404 [==============================] - 0s 96us/sample - loss: 31.3055 - val_loss: 29.7386\n",
      "Epoch 5/15\n",
      "404/404 [==============================] - 0s 86us/sample - loss: 29.1025 - val_loss: 27.9347\n",
      "Epoch 6/15\n",
      "404/404 [==============================] - 0s 104us/sample - loss: 27.1864 - val_loss: 26.3800\n",
      "Epoch 7/15\n",
      "404/404 [==============================] - 0s 84us/sample - loss: 25.8099 - val_loss: 24.9541\n",
      "Epoch 8/15\n",
      "404/404 [==============================] - 0s 116us/sample - loss: 24.6911 - val_loss: 23.9697\n",
      "Epoch 9/15\n",
      "404/404 [==============================] - 0s 84us/sample - loss: 23.7583 - val_loss: 23.2427\n",
      "Epoch 10/15\n",
      "404/404 [==============================] - 0s 101us/sample - loss: 22.8885 - val_loss: 22.6556\n",
      "Epoch 11/15\n",
      "404/404 [==============================] - 0s 94us/sample - loss: 22.1866 - val_loss: 22.0410\n",
      "Epoch 12/15\n",
      "404/404 [==============================] - 0s 165us/sample - loss: 21.6180 - val_loss: 21.5341\n",
      "Epoch 13/15\n",
      "404/404 [==============================] - 0s 126us/sample - loss: 21.0501 - val_loss: 21.1547\n",
      "Epoch 14/15\n",
      "404/404 [==============================] - 0s 148us/sample - loss: 20.6206 - val_loss: 21.0894\n",
      "Epoch 15/15\n",
      "404/404 [==============================] - 0s 96us/sample - loss: 20.0578 - val_loss: 20.6551\n"
     ]
    }
   ],
   "source": [
    "%load_ext tensorboard\n",
    "\n",
    "import os\n",
    "import datetime\n",
    "import tensorflow as tf\n",
    "\n",
    "logdir = os.path.join(\"logs\", datetime.datetime.now().strftime(\"%Y%m%d-%H%M%S\"))\n",
    "tensorboard_callback = tf.keras.callbacks.TensorBoard(logdir, histogram_freq=1)\n",
    "\n",
    "results = model.fit(x = train_data,\n",
    "         y = train_targets,\n",
    "         epochs = 15,\n",
    "         validation_data=(test_data, test_targets),\n",
    "         callbacks=[tensorboard_callback])"
   ]
  },
  {
   "cell_type": "code",
   "execution_count": 28,
   "metadata": {},
   "outputs": [
    {
     "data": {
      "image/png": "[encoded data removed]",
      "text/plain": [
       "<Figure size 432x288 with 1 Axes>"
      ]
     },
     "metadata": {
      "needs_background": "light"
     },
     "output_type": "display_data"
    }
   ],
   "source": [
    "import seaborn as sns\n",
    "results.history.keys()\n",
    "sns.lineplot(x=[i for i in range(15)], y=results.history['loss'])\n",
    "import matplotlib.pyplot as plt\n",
    "plt.show()"
   ]
  },
  {
   "cell_type": "markdown",
   "metadata": {},
   "source": [
    "Do a little bit of feature engineering and see how that affects your neural network model. (you will need to change your model to accept more inputs)\n",
    "After feature engineering, which model sees a greater accuracy boost due to the new features?"
   ]
  },
  {
   "cell_type": "code",
   "execution_count": 29,
   "metadata": {},
   "outputs": [],
   "source": [
    "from sklearn.linear_model import LinearRegression"
   ]
  },
  {
   "cell_type": "code",
   "execution_count": 30,
   "metadata": {},
   "outputs": [],
   "source": [
    "regression = LinearRegression().fit(train_data, train_targets)"
   ]
  },
  {
   "cell_type": "code",
   "execution_count": 31,
   "metadata": {},
   "outputs": [
    {
     "data": {
      "text/plain": [
       "0.7213535934621551"
      ]
     },
     "execution_count": 31,
     "metadata": {},
     "output_type": "execute_result"
    }
   ],
   "source": [
    "regression.score(test_data, test_targets)"
   ]
  },
  {
   "cell_type": "code",
   "execution_count": 32,
   "metadata": {},
   "outputs": [],
   "source": [
    "test_pred = regression.predict(test_data)"
   ]
  },
  {
   "cell_type": "code",
   "execution_count": 34,
   "metadata": {},
   "outputs": [
    {
     "data": {
      "text/plain": [
       "True"
      ]
     },
     "execution_count": 34,
     "metadata": {},
     "output_type": "execute_result"
    }
   ],
   "source": [
    "test_pred.shape == test_targets.shape"
   ]
  },
  {
   "cell_type": "code",
   "execution_count": 37,
   "metadata": {},
   "outputs": [],
   "source": [
    "mse = ((test_pred - test_targets)**2).mean()"
   ]
  },
  {
   "cell_type": "code",
   "execution_count": 38,
   "metadata": {},
   "outputs": [
    {
     "name": "stdout",
     "output_type": "stream",
     "text": [
      "the mean squared error: 23.19559925642299\n"
     ]
    }
   ],
   "source": [
    "print(\"the mean squared error:\", mse)"
   ]
  },
  {
   "cell_type": "code",
   "execution_count": 40,
   "metadata": {},
   "outputs": [
    {
     "data": {
      "text/html": [
       "<div>\n",
       "<style scoped>\n",
       "    .dataframe tbody tr th:only-of-type {\n",
       "        vertical-align: middle;\n",
       "    }\n",
       "\n",
       "    .dataframe tbody tr th {\n",
       "        vertical-align: top;\n",
       "    }\n",
       "\n",
       "    .dataframe thead th {\n",
       "        text-align: right;\n",
       "    }\n",
       "</style>\n",
       "<table border=\"1\" class=\"dataframe\">\n",
       "  <thead>\n",
       "    <tr style=\"text-align: right;\">\n",
       "      <th></th>\n",
       "      <th>0</th>\n",
       "      <th>1</th>\n",
       "      <th>2</th>\n",
       "      <th>3</th>\n",
       "      <th>4</th>\n",
       "      <th>5</th>\n",
       "      <th>6</th>\n",
       "      <th>7</th>\n",
       "      <th>8</th>\n",
       "      <th>9</th>\n",
       "      <th>10</th>\n",
       "      <th>11</th>\n",
       "      <th>12</th>\n",
       "    </tr>\n",
       "  </thead>\n",
       "  <tbody>\n",
       "    <tr>\n",
       "      <th>0</th>\n",
       "      <td>1.000000</td>\n",
       "      <td>-0.192179</td>\n",
       "      <td>0.397419</td>\n",
       "      <td>-0.050828</td>\n",
       "      <td>0.405765</td>\n",
       "      <td>-0.217597</td>\n",
       "      <td>0.344410</td>\n",
       "      <td>-0.378590</td>\n",
       "      <td>0.609689</td>\n",
       "      <td>0.575652</td>\n",
       "      <td>0.273447</td>\n",
       "      <td>-0.390613</td>\n",
       "      <td>0.434384</td>\n",
       "    </tr>\n",
       "    <tr>\n",
       "      <th>1</th>\n",
       "      <td>-0.192179</td>\n",
       "      <td>1.000000</td>\n",
       "      <td>-0.533823</td>\n",
       "      <td>-0.041981</td>\n",
       "      <td>-0.521713</td>\n",
       "      <td>0.338683</td>\n",
       "      <td>-0.578728</td>\n",
       "      <td>0.650787</td>\n",
       "      <td>-0.311091</td>\n",
       "      <td>-0.303522</td>\n",
       "      <td>-0.403139</td>\n",
       "      <td>0.176006</td>\n",
       "      <td>-0.415237</td>\n",
       "    </tr>\n",
       "    <tr>\n",
       "      <th>2</th>\n",
       "      <td>0.397419</td>\n",
       "      <td>-0.533823</td>\n",
       "      <td>1.000000</td>\n",
       "      <td>0.052839</td>\n",
       "      <td>0.774200</td>\n",
       "      <td>-0.409924</td>\n",
       "      <td>0.656350</td>\n",
       "      <td>-0.725155</td>\n",
       "      <td>0.599226</td>\n",
       "      <td>0.701362</td>\n",
       "      <td>0.379284</td>\n",
       "      <td>-0.372885</td>\n",
       "      <td>0.603129</td>\n",
       "    </tr>\n",
       "    <tr>\n",
       "      <th>3</th>\n",
       "      <td>-0.050828</td>\n",
       "      <td>-0.041981</td>\n",
       "      <td>0.052839</td>\n",
       "      <td>1.000000</td>\n",
       "      <td>0.079803</td>\n",
       "      <td>0.040431</td>\n",
       "      <td>0.080488</td>\n",
       "      <td>-0.083101</td>\n",
       "      <td>-0.024851</td>\n",
       "      <td>-0.051343</td>\n",
       "      <td>-0.122008</td>\n",
       "      <td>0.037832</td>\n",
       "      <td>-0.011017</td>\n",
       "    </tr>\n",
       "    <tr>\n",
       "      <th>4</th>\n",
       "      <td>0.405765</td>\n",
       "      <td>-0.521713</td>\n",
       "      <td>0.774200</td>\n",
       "      <td>0.079803</td>\n",
       "      <td>1.000000</td>\n",
       "      <td>-0.335866</td>\n",
       "      <td>0.729338</td>\n",
       "      <td>-0.777062</td>\n",
       "      <td>0.616535</td>\n",
       "      <td>0.673471</td>\n",
       "      <td>0.188160</td>\n",
       "      <td>-0.409479</td>\n",
       "      <td>0.592994</td>\n",
       "    </tr>\n",
       "    <tr>\n",
       "      <th>5</th>\n",
       "      <td>-0.217597</td>\n",
       "      <td>0.338683</td>\n",
       "      <td>-0.409924</td>\n",
       "      <td>0.040431</td>\n",
       "      <td>-0.335866</td>\n",
       "      <td>1.000000</td>\n",
       "      <td>-0.240875</td>\n",
       "      <td>0.233970</td>\n",
       "      <td>-0.243990</td>\n",
       "      <td>-0.307904</td>\n",
       "      <td>-0.367256</td>\n",
       "      <td>0.145525</td>\n",
       "      <td>-0.610844</td>\n",
       "    </tr>\n",
       "    <tr>\n",
       "      <th>6</th>\n",
       "      <td>0.344410</td>\n",
       "      <td>-0.578728</td>\n",
       "      <td>0.656350</td>\n",
       "      <td>0.080488</td>\n",
       "      <td>0.729338</td>\n",
       "      <td>-0.240875</td>\n",
       "      <td>1.000000</td>\n",
       "      <td>-0.766670</td>\n",
       "      <td>0.462188</td>\n",
       "      <td>0.512746</td>\n",
       "      <td>0.282193</td>\n",
       "      <td>-0.278403</td>\n",
       "      <td>0.590898</td>\n",
       "    </tr>\n",
       "    <tr>\n",
       "      <th>7</th>\n",
       "      <td>-0.378590</td>\n",
       "      <td>0.650787</td>\n",
       "      <td>-0.725155</td>\n",
       "      <td>-0.083101</td>\n",
       "      <td>-0.777062</td>\n",
       "      <td>0.233970</td>\n",
       "      <td>-0.766670</td>\n",
       "      <td>1.000000</td>\n",
       "      <td>-0.511179</td>\n",
       "      <td>-0.543668</td>\n",
       "      <td>-0.243067</td>\n",
       "      <td>0.295995</td>\n",
       "      <td>-0.507075</td>\n",
       "    </tr>\n",
       "    <tr>\n",
       "      <th>8</th>\n",
       "      <td>0.609689</td>\n",
       "      <td>-0.311091</td>\n",
       "      <td>0.599226</td>\n",
       "      <td>-0.024851</td>\n",
       "      <td>0.616535</td>\n",
       "      <td>-0.243990</td>\n",
       "      <td>0.462188</td>\n",
       "      <td>-0.511179</td>\n",
       "      <td>1.000000</td>\n",
       "      <td>0.922676</td>\n",
       "      <td>0.449908</td>\n",
       "      <td>-0.478245</td>\n",
       "      <td>0.490250</td>\n",
       "    </tr>\n",
       "    <tr>\n",
       "      <th>9</th>\n",
       "      <td>0.575652</td>\n",
       "      <td>-0.303522</td>\n",
       "      <td>0.701362</td>\n",
       "      <td>-0.051343</td>\n",
       "      <td>0.673471</td>\n",
       "      <td>-0.307904</td>\n",
       "      <td>0.512746</td>\n",
       "      <td>-0.543668</td>\n",
       "      <td>0.922676</td>\n",
       "      <td>1.000000</td>\n",
       "      <td>0.440499</td>\n",
       "      <td>-0.471777</td>\n",
       "      <td>0.534752</td>\n",
       "    </tr>\n",
       "    <tr>\n",
       "      <th>10</th>\n",
       "      <td>0.273447</td>\n",
       "      <td>-0.403139</td>\n",
       "      <td>0.379284</td>\n",
       "      <td>-0.122008</td>\n",
       "      <td>0.188160</td>\n",
       "      <td>-0.367256</td>\n",
       "      <td>0.282193</td>\n",
       "      <td>-0.243067</td>\n",
       "      <td>0.449908</td>\n",
       "      <td>0.440499</td>\n",
       "      <td>1.000000</td>\n",
       "      <td>-0.178060</td>\n",
       "      <td>0.365873</td>\n",
       "    </tr>\n",
       "    <tr>\n",
       "      <th>11</th>\n",
       "      <td>-0.390613</td>\n",
       "      <td>0.176006</td>\n",
       "      <td>-0.372885</td>\n",
       "      <td>0.037832</td>\n",
       "      <td>-0.409479</td>\n",
       "      <td>0.145525</td>\n",
       "      <td>-0.278403</td>\n",
       "      <td>0.295995</td>\n",
       "      <td>-0.478245</td>\n",
       "      <td>-0.471777</td>\n",
       "      <td>-0.178060</td>\n",
       "      <td>1.000000</td>\n",
       "      <td>-0.376081</td>\n",
       "    </tr>\n",
       "    <tr>\n",
       "      <th>12</th>\n",
       "      <td>0.434384</td>\n",
       "      <td>-0.415237</td>\n",
       "      <td>0.603129</td>\n",
       "      <td>-0.011017</td>\n",
       "      <td>0.592994</td>\n",
       "      <td>-0.610844</td>\n",
       "      <td>0.590898</td>\n",
       "      <td>-0.507075</td>\n",
       "      <td>0.490250</td>\n",
       "      <td>0.534752</td>\n",
       "      <td>0.365873</td>\n",
       "      <td>-0.376081</td>\n",
       "      <td>1.000000</td>\n",
       "    </tr>\n",
       "  </tbody>\n",
       "</table>\n",
       "</div>"
      ],
      "text/plain": [
       "          0         1         2         3         4         5         6   \\\n",
       "0   1.000000 -0.192179  0.397419 -0.050828  0.405765 -0.217597  0.344410   \n",
       "1  -0.192179  1.000000 -0.533823 -0.041981 -0.521713  0.338683 -0.578728   \n",
       "2   0.397419 -0.533823  1.000000  0.052839  0.774200 -0.409924  0.656350   \n",
       "3  -0.050828 -0.041981  0.052839  1.000000  0.079803  0.040431  0.080488   \n",
       "4   0.405765 -0.521713  0.774200  0.079803  1.000000 -0.335866  0.729338   \n",
       "5  -0.217597  0.338683 -0.409924  0.040431 -0.335866  1.000000 -0.240875   \n",
       "6   0.344410 -0.578728  0.656350  0.080488  0.729338 -0.240875  1.000000   \n",
       "7  -0.378590  0.650787 -0.725155 -0.083101 -0.777062  0.233970 -0.766670   \n",
       "8   0.609689 -0.311091  0.599226 -0.024851  0.616535 -0.243990  0.462188   \n",
       "9   0.575652 -0.303522  0.701362 -0.051343  0.673471 -0.307904  0.512746   \n",
       "10  0.273447 -0.403139  0.379284 -0.122008  0.188160 -0.367256  0.282193   \n",
       "11 -0.390613  0.176006 -0.372885  0.037832 -0.409479  0.145525 -0.278403   \n",
       "12  0.434384 -0.415237  0.603129 -0.011017  0.592994 -0.610844  0.590898   \n",
       "\n",
       "          7         8         9         10        11        12  \n",
       "0  -0.378590  0.609689  0.575652  0.273447 -0.390613  0.434384  \n",
       "1   0.650787 -0.311091 -0.303522 -0.403139  0.176006 -0.415237  \n",
       "2  -0.725155  0.599226  0.701362  0.379284 -0.372885  0.603129  \n",
       "3  -0.083101 -0.024851 -0.051343 -0.122008  0.037832 -0.011017  \n",
       "4  -0.777062  0.616535  0.673471  0.188160 -0.409479  0.592994  \n",
       "5   0.233970 -0.243990 -0.307904 -0.367256  0.145525 -0.610844  \n",
       "6  -0.766670  0.462188  0.512746  0.282193 -0.278403  0.590898  \n",
       "7   1.000000 -0.511179 -0.543668 -0.243067  0.295995 -0.507075  \n",
       "8  -0.511179  1.000000  0.922676  0.449908 -0.478245  0.490250  \n",
       "9  -0.543668  0.922676  1.000000  0.440499 -0.471777  0.534752  \n",
       "10 -0.243067  0.449908  0.440499  1.000000 -0.178060  0.365873  \n",
       "11  0.295995 -0.478245 -0.471777 -0.178060  1.000000 -0.376081  \n",
       "12 -0.507075  0.490250  0.534752  0.365873 -0.376081  1.000000  "
      ]
     },
     "execution_count": 40,
     "metadata": {},
     "output_type": "execute_result"
    }
   ],
   "source": [
    "import pandas as pd\n",
    "pd.DataFrame(train_data).corr()"
   ]
  },
  {
   "cell_type": "markdown",
   "metadata": {},
   "source": [
    "### Assessing accuracy:\n",
    "\n",
    "The neural network begins with lower accuracy, but reaches superior performance around the 10th epoch and goes on to exceed linear regression accuracy."
   ]
  },
  {
   "cell_type": "raw",
   "metadata": {
    "colab_type": "text",
    "id": "SfcFnOONyuNm"
   },
   "source": [
    "## Use the Keras Library to build an image recognition network using the Fashion-MNIST dataset (also comes with keras)\n",
    "\n",
    "- Load and preprocess the image data similar to how we preprocessed the MNIST data in class.\n",
    "- Make sure to one-hot encode your category labels\n",
    "- The number of nodes in your output layer should equal the number of classes you want to predict for Fashion-MNIST.\n",
    "- Try different hyperparameters. What is the highest accuracy that you are able to achieve.\n",
    "- Use the history object that is returned from model.fit to make graphs of the model's loss or train/validation accuracies by epoch. \n",
    "- Remember that neural networks fall prey to randomness so you may need to run your model multiple times (or use Cross Validation) in order to tell if a change to a hyperparameter is truly producing better results."
   ]
  },
  {
   "cell_type": "code",
   "execution_count": 72,
   "metadata": {
    "colab": {},
    "colab_type": "code",
    "id": "szi6-IpuzaH1"
   },
   "outputs": [],
   "source": [
    "from tensorflow.keras.datasets import fashion_mnist\n",
    "\n",
    "(x_train, y_train), (x_test, y_test) = fashion_mnist.load_data()"
   ]
  },
  {
   "cell_type": "code",
   "execution_count": 73,
   "metadata": {},
   "outputs": [
    {
     "data": {
      "text/plain": [
       "(60000, 28, 28)"
      ]
     },
     "execution_count": 73,
     "metadata": {},
     "output_type": "execute_result"
    }
   ],
   "source": [
    "x_train.shape"
   ]
  },
  {
   "cell_type": "code",
   "execution_count": 74,
   "metadata": {},
   "outputs": [
    {
     "data": {
      "text/plain": [
       "(60000,)"
      ]
     },
     "execution_count": 74,
     "metadata": {},
     "output_type": "execute_result"
    }
   ],
   "source": [
    "y_train.shape"
   ]
  },
  {
   "cell_type": "code",
   "execution_count": 75,
   "metadata": {},
   "outputs": [
    {
     "data": {
      "text/plain": [
       "(10000, 28, 28)"
      ]
     },
     "execution_count": 75,
     "metadata": {},
     "output_type": "execute_result"
    }
   ],
   "source": [
    "x_test.shape"
   ]
  },
  {
   "cell_type": "code",
   "execution_count": 76,
   "metadata": {},
   "outputs": [
    {
     "data": {
      "text/plain": [
       "array([[[0, 0, 0, ..., 0, 0, 0],\n",
       "        [0, 0, 0, ..., 0, 0, 0],\n",
       "        [0, 0, 0, ..., 0, 0, 0],\n",
       "        ...,\n",
       "        [0, 0, 0, ..., 0, 0, 0],\n",
       "        [0, 0, 0, ..., 0, 0, 0],\n",
       "        [0, 0, 0, ..., 0, 0, 0]],\n",
       "\n",
       "       [[0, 0, 0, ..., 0, 0, 0],\n",
       "        [0, 0, 0, ..., 0, 0, 0],\n",
       "        [0, 0, 0, ..., 0, 0, 0],\n",
       "        ...,\n",
       "        [0, 0, 0, ..., 0, 0, 0],\n",
       "        [0, 0, 0, ..., 0, 0, 0],\n",
       "        [0, 0, 0, ..., 0, 0, 0]]], dtype=uint8)"
      ]
     },
     "execution_count": 76,
     "metadata": {},
     "output_type": "execute_result"
    }
   ],
   "source": [
    "x_train[:2]"
   ]
  },
  {
   "cell_type": "code",
   "execution_count": 77,
   "metadata": {},
   "outputs": [],
   "source": [
    "x_train = x_train/255\n",
    "x_test = x_test/255"
   ]
  },
  {
   "cell_type": "code",
   "execution_count": 78,
   "metadata": {},
   "outputs": [],
   "source": [
    "#from sklearn.preprocessing import OneHotEncoder\n",
    "#encoder = OneHotEncoder()\n",
    "#y_train = y_train.reshape(-1, 1)\n",
    "#y_test = y_test.reshape(-1, 1)\n",
    "#encoder.fit(y_train)\n",
    "#y_train = encoder.transform(y_train)\n",
    "#y_test = encoder.transform(y_test)\n"
   ]
  },
  {
   "cell_type": "code",
   "execution_count": 87,
   "metadata": {},
   "outputs": [],
   "source": [
    "y_test\n",
    "from tensorflow.keras.utils import to_categorical\n",
    "y_train = to_categorical(y_train)\n",
    "y_test = to_categorical(y_test)"
   ]
  },
  {
   "cell_type": "code",
   "execution_count": 88,
   "metadata": {},
   "outputs": [
    {
     "name": "stdout",
     "output_type": "stream",
     "text": [
      "The tensorboard extension is already loaded. To reload it, use:\n",
      "  %reload_ext tensorboard\n",
      "Train on 60000 samples, validate on 10000 samples\n",
      "Epoch 1/50\n",
      "60000/60000 [==============================] - 4s 72us/sample - loss: 0.5785 - accuracy: 0.7954 - val_loss: 0.4838 - val_accuracy: 0.8335\n",
      "Epoch 2/50\n",
      "60000/60000 [==============================] - 3s 58us/sample - loss: 0.4149 - accuracy: 0.8502 - val_loss: 0.4386 - val_accuracy: 0.8389\n",
      "Epoch 3/50\n",
      "60000/60000 [==============================] - 4s 65us/sample - loss: 0.3789 - accuracy: 0.8626 - val_loss: 0.4016 - val_accuracy: 0.8562\n",
      "Epoch 4/50\n",
      "60000/60000 [==============================] - 4s 60us/sample - loss: 0.3588 - accuracy: 0.8688 - val_loss: 0.4213 - val_accuracy: 0.8500\n",
      "Epoch 5/50\n",
      "60000/60000 [==============================] - 4s 61us/sample - loss: 0.3408 - accuracy: 0.8758 - val_loss: 0.4184 - val_accuracy: 0.8459\n",
      "Epoch 6/50\n",
      "60000/60000 [==============================] - 4s 65us/sample - loss: 0.3299 - accuracy: 0.8787 - val_loss: 0.3781 - val_accuracy: 0.8630\n",
      "Epoch 7/50\n",
      "60000/60000 [==============================] - 3s 58us/sample - loss: 0.3206 - accuracy: 0.8824 - val_loss: 0.3821 - val_accuracy: 0.8627\n",
      "Epoch 8/50\n",
      "60000/60000 [==============================] - 3s 58us/sample - loss: 0.3115 - accuracy: 0.8856 - val_loss: 0.3648 - val_accuracy: 0.8688\n",
      "Epoch 9/50\n",
      "60000/60000 [==============================] - 4s 60us/sample - loss: 0.3054 - accuracy: 0.8869 - val_loss: 0.3654 - val_accuracy: 0.8649\n",
      "Epoch 10/50\n",
      "60000/60000 [==============================] - 3s 58us/sample - loss: 0.2976 - accuracy: 0.8894 - val_loss: 0.3793 - val_accuracy: 0.8631\n",
      "Epoch 11/50\n",
      "60000/60000 [==============================] - 3s 49us/sample - loss: 0.2911 - accuracy: 0.8914 - val_loss: 0.3760 - val_accuracy: 0.8623\n",
      "Epoch 12/50\n",
      "60000/60000 [==============================] - 3s 52us/sample - loss: 0.2863 - accuracy: 0.8928 - val_loss: 0.3890 - val_accuracy: 0.8634\n",
      "Epoch 13/50\n",
      "60000/60000 [==============================] - 3s 50us/sample - loss: 0.2806 - accuracy: 0.8951 - val_loss: 0.3637 - val_accuracy: 0.8719\n",
      "Epoch 14/50\n",
      "60000/60000 [==============================] - 3s 52us/sample - loss: 0.2746 - accuracy: 0.8966 - val_loss: 0.3671 - val_accuracy: 0.8712\n",
      "Epoch 15/50\n",
      "60000/60000 [==============================] - 3s 58us/sample - loss: 0.2721 - accuracy: 0.8988 - val_loss: 0.3502 - val_accuracy: 0.8782\n",
      "Epoch 16/50\n",
      "60000/60000 [==============================] - 3s 52us/sample - loss: 0.2681 - accuracy: 0.9000 - val_loss: 0.3613 - val_accuracy: 0.8746\n",
      "Epoch 17/50\n",
      "60000/60000 [==============================] - 3s 54us/sample - loss: 0.2614 - accuracy: 0.9025 - val_loss: 0.3641 - val_accuracy: 0.8743\n",
      "Epoch 18/50\n",
      "60000/60000 [==============================] - 4s 69us/sample - loss: 0.2604 - accuracy: 0.9026 - val_loss: 0.3792 - val_accuracy: 0.8706\n",
      "Epoch 19/50\n",
      "60000/60000 [==============================] - 4s 61us/sample - loss: 0.2566 - accuracy: 0.9036 - val_loss: 0.3629 - val_accuracy: 0.8752\n",
      "Epoch 20/50\n",
      "60000/60000 [==============================] - 4s 61us/sample - loss: 0.2530 - accuracy: 0.9047 - val_loss: 0.3639 - val_accuracy: 0.8738\n",
      "Epoch 21/50\n",
      "60000/60000 [==============================] - 4s 66us/sample - loss: 0.2501 - accuracy: 0.9061 - val_loss: 0.3644 - val_accuracy: 0.8755\n",
      "Epoch 22/50\n",
      "60000/60000 [==============================] - 4s 63us/sample - loss: 0.2460 - accuracy: 0.9074 - val_loss: 0.3740 - val_accuracy: 0.8730\n",
      "Epoch 23/50\n",
      "60000/60000 [==============================] - 3s 54us/sample - loss: 0.2431 - accuracy: 0.9083 - val_loss: 0.3690 - val_accuracy: 0.8766\n",
      "Epoch 24/50\n",
      "60000/60000 [==============================] - 4s 60us/sample - loss: 0.2409 - accuracy: 0.9098 - val_loss: 0.3735 - val_accuracy: 0.8756\n",
      "Epoch 25/50\n",
      "60000/60000 [==============================] - 3s 52us/sample - loss: 0.2375 - accuracy: 0.9114 - val_loss: 0.3862 - val_accuracy: 0.8719\n",
      "Epoch 26/50\n",
      "60000/60000 [==============================] - 3s 50us/sample - loss: 0.2355 - accuracy: 0.9118 - val_loss: 0.3969 - val_accuracy: 0.8672\n",
      "Epoch 27/50\n",
      "60000/60000 [==============================] - 3s 54us/sample - loss: 0.2331 - accuracy: 0.9119 - val_loss: 0.3755 - val_accuracy: 0.8755\n",
      "Epoch 28/50\n",
      "60000/60000 [==============================] - 3s 49us/sample - loss: 0.2320 - accuracy: 0.9123 - val_loss: 0.3802 - val_accuracy: 0.8707\n",
      "Epoch 29/50\n",
      "60000/60000 [==============================] - 3s 51us/sample - loss: 0.2283 - accuracy: 0.9131 - val_loss: 0.3778 - val_accuracy: 0.8740\n",
      "Epoch 30/50\n",
      "60000/60000 [==============================] - 3s 50us/sample - loss: 0.2265 - accuracy: 0.9153 - val_loss: 0.3664 - val_accuracy: 0.8793\n",
      "Epoch 31/50\n",
      "60000/60000 [==============================] - 3s 58us/sample - loss: 0.2238 - accuracy: 0.9158 - val_loss: 0.3930 - val_accuracy: 0.8716\n",
      "Epoch 32/50\n",
      "60000/60000 [==============================] - 4s 59us/sample - loss: 0.2210 - accuracy: 0.9165 - val_loss: 0.3755 - val_accuracy: 0.8776\n",
      "Epoch 33/50\n",
      "60000/60000 [==============================] - 3s 50us/sample - loss: 0.2213 - accuracy: 0.9164 - val_loss: 0.3924 - val_accuracy: 0.8730\n",
      "Epoch 34/50\n",
      "60000/60000 [==============================] - 3s 52us/sample - loss: 0.2189 - accuracy: 0.9171 - val_loss: 0.3990 - val_accuracy: 0.8706\n",
      "Epoch 35/50\n",
      "60000/60000 [==============================] - 3s 47us/sample - loss: 0.2154 - accuracy: 0.9192 - val_loss: 0.3910 - val_accuracy: 0.8779\n",
      "Epoch 36/50\n",
      "60000/60000 [==============================] - 3s 48us/sample - loss: 0.2150 - accuracy: 0.9179 - val_loss: 0.3912 - val_accuracy: 0.8774\n",
      "Epoch 37/50\n",
      "60000/60000 [==============================] - 3s 48us/sample - loss: 0.2139 - accuracy: 0.9201 - val_loss: 0.3809 - val_accuracy: 0.8800\n",
      "Epoch 38/50\n",
      "60000/60000 [==============================] - 3s 48us/sample - loss: 0.2125 - accuracy: 0.9201 - val_loss: 0.3993 - val_accuracy: 0.8737\n",
      "Epoch 39/50\n",
      "60000/60000 [==============================] - 3s 48us/sample - loss: 0.2099 - accuracy: 0.9213 - val_loss: 0.4372 - val_accuracy: 0.8660\n",
      "Epoch 40/50\n",
      "60000/60000 [==============================] - 3s 47us/sample - loss: 0.2106 - accuracy: 0.9201 - val_loss: 0.3870 - val_accuracy: 0.8804\n",
      "Epoch 41/50\n",
      "60000/60000 [==============================] - 3s 48us/sample - loss: 0.2091 - accuracy: 0.9205 - val_loss: 0.3991 - val_accuracy: 0.8767\n",
      "Epoch 42/50\n",
      "60000/60000 [==============================] - 3s 49us/sample - loss: 0.2061 - accuracy: 0.9221 - val_loss: 0.4100 - val_accuracy: 0.8724\n",
      "Epoch 43/50\n",
      "60000/60000 [==============================] - 3s 47us/sample - loss: 0.2051 - accuracy: 0.9224 - val_loss: 0.3831 - val_accuracy: 0.8793\n",
      "Epoch 44/50\n",
      "60000/60000 [==============================] - 3s 52us/sample - loss: 0.2035 - accuracy: 0.9226 - val_loss: 0.4160 - val_accuracy: 0.8755\n",
      "Epoch 45/50\n",
      "60000/60000 [==============================] - 3s 48us/sample - loss: 0.2028 - accuracy: 0.9242 - val_loss: 0.4139 - val_accuracy: 0.8761\n",
      "Epoch 46/50\n",
      "60000/60000 [==============================] - 3s 48us/sample - loss: 0.2002 - accuracy: 0.9243 - val_loss: 0.4122 - val_accuracy: 0.8761\n",
      "Epoch 47/50\n",
      "60000/60000 [==============================] - 3s 52us/sample - loss: 0.1994 - accuracy: 0.9252 - val_loss: 0.4175 - val_accuracy: 0.8789\n",
      "Epoch 48/50\n",
      "60000/60000 [==============================] - 3s 47us/sample - loss: 0.1987 - accuracy: 0.9246 - val_loss: 0.4187 - val_accuracy: 0.8742\n",
      "Epoch 49/50\n",
      "60000/60000 [==============================] - 3s 48us/sample - loss: 0.1969 - accuracy: 0.9243 - val_loss: 0.4161 - val_accuracy: 0.8756\n",
      "Epoch 50/50\n",
      "60000/60000 [==============================] - 3s 48us/sample - loss: 0.1960 - accuracy: 0.9261 - val_loss: 0.4132 - val_accuracy: 0.8786\n"
     ]
    }
   ],
   "source": [
    "%load_ext tensorboard\n",
    "\n",
    "import os\n",
    "import datetime\n",
    "import tensorflow as tf\n",
    "\n",
    "logdir = os.path.join(\"logs\", datetime.datetime.now().strftime(\"%Y%m%d-%H%M%S\"))\n",
    "tensorboard_callback = tf.keras.callbacks.TensorBoard(logdir, histogram_freq=1)\n",
    "\n",
    "model = Sequential([\n",
    "    Flatten(),\n",
    "    Dense(30, activation = 'relu', input_dim=784),\n",
    "    Dense(15, activation = 'relu'),\n",
    "    Dense(30, activation = 'relu'),\n",
    "    Dense(10, activation = 'softmax')\n",
    "])\n",
    "\n",
    "model.compile(optimizer = 'adam', loss = 'categorical_crossentropy', metrics = ['accuracy'])\n",
    "         \n",
    "results = model.fit(x_train, y_train, \n",
    "                    verbose = 1, \n",
    "                    epochs = 50,\n",
    "                    validation_data=(x_test, y_test),\n",
    "                    callbacks=[tensorboard_callback])"
   ]
  },
  {
   "cell_type": "code",
   "execution_count": 89,
   "metadata": {},
   "outputs": [
    {
     "data": {
      "text/plain": [
       "dict_keys(['loss', 'accuracy', 'val_loss', 'val_accuracy'])"
      ]
     },
     "execution_count": 89,
     "metadata": {},
     "output_type": "execute_result"
    }
   ],
   "source": [
    "results.history.keys()"
   ]
  },
  {
   "cell_type": "code",
   "execution_count": 90,
   "metadata": {},
   "outputs": [
    {
     "data": {
      "image/png": "[encoded data removed]",
      "text/plain": [
       "<Figure size 432x288 with 1 Axes>"
      ]
     },
     "metadata": {
      "needs_background": "light"
     },
     "output_type": "display_data"
    }
   ],
   "source": [
    "import seaborn as sns\n",
    "sns.lineplot(x=[i for i in range(len(results.history[\"val_accuracy\"]))], y=results.history['val_accuracy'])\n",
    "plt.show()"
   ]
  },
  {
   "cell_type": "code",
   "execution_count": 95,
   "metadata": {},
   "outputs": [
    {
     "name": "stdout",
     "output_type": "stream",
     "text": [
      "The tensorboard extension is already loaded. To reload it, use:\n",
      "  %reload_ext tensorboard\n",
      "Train on 60000 samples, validate on 10000 samples\n",
      "Epoch 1/50\n",
      "60000/60000 [==============================] - 6s 104us/sample - loss: 0.8078 - accuracy: 0.7097 - val_loss: 0.4875 - val_accuracy: 0.8272\n",
      "Epoch 2/50\n",
      "60000/60000 [==============================] - 4s 64us/sample - loss: 0.5589 - accuracy: 0.8031 - val_loss: 0.4408 - val_accuracy: 0.8464\n",
      "Epoch 3/50\n",
      "60000/60000 [==============================] - 4s 69us/sample - loss: 0.5140 - accuracy: 0.8198 - val_loss: 0.4424 - val_accuracy: 0.8418\n",
      "Epoch 4/50\n",
      "60000/60000 [==============================] - 6s 94us/sample - loss: 0.4891 - accuracy: 0.8278 - val_loss: 0.4214 - val_accuracy: 0.8532\n",
      "Epoch 5/50\n",
      "60000/60000 [==============================] - 6s 99us/sample - loss: 0.4713 - accuracy: 0.8342 - val_loss: 0.4021 - val_accuracy: 0.8573\n",
      "Epoch 6/50\n",
      "60000/60000 [==============================] - 5s 77us/sample - loss: 0.4619 - accuracy: 0.8368 - val_loss: 0.4056 - val_accuracy: 0.8562\n",
      "Epoch 7/50\n",
      "60000/60000 [==============================] - 4s 73us/sample - loss: 0.4519 - accuracy: 0.8404 - val_loss: 0.3964 - val_accuracy: 0.8610\n",
      "Epoch 8/50\n",
      "60000/60000 [==============================] - 5s 84us/sample - loss: 0.4442 - accuracy: 0.8421 - val_loss: 0.4046 - val_accuracy: 0.8583\n",
      "Epoch 9/50\n",
      "60000/60000 [==============================] - 5s 78us/sample - loss: 0.4390 - accuracy: 0.8447 - val_loss: 0.4019 - val_accuracy: 0.8622\n",
      "Epoch 10/50\n",
      "60000/60000 [==============================] - 5s 75us/sample - loss: 0.4325 - accuracy: 0.8462 - val_loss: 0.4044 - val_accuracy: 0.8576\n",
      "Epoch 11/50\n",
      "60000/60000 [==============================] - 5s 84us/sample - loss: 0.4269 - accuracy: 0.8494 - val_loss: 0.3792 - val_accuracy: 0.8670\n",
      "Epoch 12/50\n",
      "60000/60000 [==============================] - 5s 89us/sample - loss: 0.4251 - accuracy: 0.8491 - val_loss: 0.3869 - val_accuracy: 0.8623\n",
      "Epoch 13/50\n",
      "60000/60000 [==============================] - 4s 74us/sample - loss: 0.4167 - accuracy: 0.8516 - val_loss: 0.3857 - val_accuracy: 0.8632\n",
      "Epoch 14/50\n",
      "60000/60000 [==============================] - 5s 85us/sample - loss: 0.4152 - accuracy: 0.8532 - val_loss: 0.3785 - val_accuracy: 0.8635\n",
      "Epoch 15/50\n",
      "60000/60000 [==============================] - 5s 76us/sample - loss: 0.4130 - accuracy: 0.8524 - val_loss: 0.3813 - val_accuracy: 0.8656\n"
     ]
    }
   ],
   "source": [
    "%load_ext tensorboard\n",
    "\n",
    "import os\n",
    "import datetime\n",
    "import tensorflow as tf\n",
    "\n",
    "logdir = os.path.join(\"logs\", datetime.datetime.now().strftime(\"%Y%m%d-%H%M%S\"))\n",
    "tensorboard_callback = tf.keras.callbacks.TensorBoard(logdir, histogram_freq=1)\n",
    "\n",
    "\n",
    "stop = EarlyStopping(monitor='val_accuracy', \n",
    "                              min_delta=.01, \n",
    "                              patience=10)\n",
    "model = Sequential([\n",
    "    Flatten(),\n",
    "    Dense(30, activation = 'relu', input_dim=784),\n",
    "    Dropout(.2),\n",
    "    Dense(15, activation = 'relu'),\n",
    "    Dropout(.1),\n",
    "    Dense(30, activation = 'relu'),\n",
    "    Dropout(.1),\n",
    "    Dense(10, activation = 'softmax')\n",
    "])\n",
    "\n",
    "model.compile(optimizer = 'nadam', loss = 'categorical_crossentropy', metrics = ['accuracy'])\n",
    "         \n",
    "results = model.fit(x_train, y_train, \n",
    "                    verbose = 1, \n",
    "                    epochs = 50,\n",
    "                    validation_data=(x_test, y_test),\n",
    "                    callbacks=[tensorboard_callback, stop])\n",
    "\n"
   ]
  },
  {
   "cell_type": "markdown",
   "metadata": {
    "colab_type": "text",
    "id": "zv_3xNMjzdLI"
   },
   "source": [
    "## Stretch Goals:\n",
    "\n",
    "- Use Hyperparameter Tuning to make the accuracy of your models as high as possible. (error as low as possible)\n",
    "- Use Cross Validation techniques to get more consistent results with your model.\n",
    "- Use GridSearchCV to try different combinations of hyperparameters. \n",
    "- Start looking into other types of Keras layers for CNNs and RNNs maybe try and build a CNN model for fashion-MNIST to see how the results compare."
   ]
  }
 ],
 "metadata": {
  "colab": {
   "name": "LS_DS_433_Keras_Assignment.ipynb",
   "provenance": [],
   "version": "0.3.2"
  },
  "kernelspec": {
   "display_name": "U4-S2-NN (Python3)",
   "language": "python",
   "name": "u4-s2-nn"
  },
  "language_info": {
   "codemirror_mode": {
    "name": "ipython",
    "version": 3
   },
   "file_extension": ".py",
   "mimetype": "text/x-python",
   "name": "python",
   "nbconvert_exporter": "python",
   "pygments_lexer": "ipython3",
   "version": "3.7.0"
  }
 },
 "nbformat": 4,
 "nbformat_minor": 4
}
